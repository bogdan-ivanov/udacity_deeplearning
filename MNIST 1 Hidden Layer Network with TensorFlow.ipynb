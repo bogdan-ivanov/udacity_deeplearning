{
 "cells": [
  {
   "cell_type": "code",
   "execution_count": 4,
   "metadata": {
    "collapsed": false
   },
   "outputs": [
    {
     "name": "stdout",
     "output_type": "stream",
     "text": [
      "Extracting ./train-images-idx3-ubyte.gz\n",
      "Extracting ./train-labels-idx1-ubyte.gz\n",
      "Extracting ./t10k-images-idx3-ubyte.gz\n",
      "Extracting ./t10k-labels-idx1-ubyte.gz\n"
     ]
    }
   ],
   "source": [
    "import tensorflow as tf\n",
    "from tensorflow.examples.tutorials.mnist import input_data\n",
    "mnist = input_data.read_data_sets(\".\", one_hot=True, reshape=False)"
   ]
  },
  {
   "cell_type": "code",
   "execution_count": 5,
   "metadata": {
    "collapsed": true
   },
   "outputs": [],
   "source": [
    "# Learning rate\n",
    "LR = 0.001\n",
    "\n",
    "# Number of training epochs\n",
    "EPOCHS = 20\n",
    "\n",
    "# Batch size in mini batching\n",
    "BATCH_SIZE = 128\n",
    "\n",
    "# Network shape\n",
    "N_INPUT, N_CLASSES, N_HIDDEN_LAYER = 784, 10, 256"
   ]
  },
  {
   "cell_type": "code",
   "execution_count": 16,
   "metadata": {
    "collapsed": true
   },
   "outputs": [],
   "source": [
    "tf.reset_default_graph()\n",
    "\n",
    "weights = {\n",
    "    'hidden': tf.Variable(tf.random_normal([N_INPUT, N_HIDDEN_LAYER])),\n",
    "    'output': tf.Variable(tf.random_normal([N_HIDDEN_LAYER, N_CLASSES]))\n",
    "}\n",
    "\n",
    "biases = {\n",
    "    'hidden': tf.Variable(tf.random_normal([N_HIDDEN_LAYER])),\n",
    "    'output': tf.Variable(tf.random_normal([N_CLASSES]))\n",
    "}\n",
    "\n",
    "x = tf.placeholder(\"float\", [None, 28, 28, 1])\n",
    "y = tf.placeholder(\"float\", [None, N_CLASSES])\n",
    "\n",
    "x_flat = tf.reshape(x, [-1, N_INPUT])\n",
    "\n",
    "layer_1 = tf.add(tf.matmul(x_flat, weights['hidden']), biases['hidden'])\n",
    "layer_1 = tf.nn.relu(layer_1)\n",
    "logits = tf.add(tf.matmul(layer_1, weights['output']), biases['output'])"
   ]
  },
  {
   "cell_type": "code",
   "execution_count": 17,
   "metadata": {
    "collapsed": true
   },
   "outputs": [],
   "source": [
    "# Define Loss and Optimizer\n",
    "cost = tf.reduce_mean(tf.nn.softmax_cross_entropy_with_logits(logits, y))\n",
    "optimizer = tf.train.GradientDescentOptimizer(learning_rate=LR).minimize(cost)"
   ]
  },
  {
   "cell_type": "code",
   "execution_count": 18,
   "metadata": {
    "collapsed": false
   },
   "outputs": [],
   "source": [
    "with tf.Session() as session:\n",
    "    session.run(tf.global_variables_initializer())\n",
    "    for epoch in range(EPOCHS):\n",
    "        total_batch = int(mnist.train.num_examples / BATCH_SIZE)\n",
    "        \n",
    "        for i in range(total_batch):\n",
    "            batch_x, batch_y = mnist.train.next_batch(BATCH_SIZE)\n",
    "            \n",
    "            session.run(optimizer, feed_dict={x: batch_x, y: batch_y})\n"
   ]
  }
 ],
 "metadata": {
  "kernelspec": {
   "display_name": "Python 3",
   "language": "python",
   "name": "python3"
  },
  "language_info": {
   "codemirror_mode": {
    "name": "ipython",
    "version": 3
   },
   "file_extension": ".py",
   "mimetype": "text/x-python",
   "name": "python",
   "nbconvert_exporter": "python",
   "pygments_lexer": "ipython3",
   "version": "3.6.0"
  }
 },
 "nbformat": 4,
 "nbformat_minor": 1
}
